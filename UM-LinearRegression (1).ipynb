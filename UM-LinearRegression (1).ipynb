{
  "metadata": {
    "kernelspec": {
      "name": "python",
      "display_name": "Python (Pyodide)",
      "language": "python"
    },
    "language_info": {
      "codemirror_mode": {
        "name": "python",
        "version": 3
      },
      "file_extension": ".py",
      "mimetype": "text/x-python",
      "name": "python",
      "nbconvert_exporter": "python",
      "pygments_lexer": "ipython3",
      "version": "3.8"
    }
  },
  "nbformat_minor": 5,
  "nbformat": 4,
  "cells": [
    {
      "id": "ad6a67a3-92ac-4eb3-b821-03d1db927880",
      "cell_type": "code",
      "source": "import pandas as pd\nimport numpy as np\n\n# Wczytanie danych\ndf = pd.read_csv(\"myocardial infarction complications.csv\")\n\n# Wyświetlenie podstawowych informacji\nprint(f\"df.info():\")\nprint(df.info())\n\nprint(f\"df.head():\")\nprint(df.head())\n\n# Sprawdzenie brakujących wartości\nprint(f\"df.isnull().sum()():\")\nprint(df.isnull().sum())\n\n# Opcjonalne uzupełnienie wartości średnimi\ndf.fillna(df.mean(), inplace=True)\n\nimport matplotlib.pyplot as plt\nimport seaborn as sns\n\n# Histogram dla zmiennej zależnej (np. komplikacji po zawale)\nsns.histplot(df[\"AGE\"], bins=30, kde=True)\nplt.show()\nfrom sklearn.model_selection import train_test_split\n\nX = df.drop(columns=[\"ID\", \"AGE\"])  # Wszystkie cechy niezależne, bez ID\ny = df[\"AGE\"]  # Zmienna zależna\n\nfrom sklearn.preprocessing import StandardScaler\n\n# Wybór jednej zmiennej do regresji (np. L_BLOOD)\nX_single = X[[\"L_BLOOD\"]]  # Wybór tylko wieku jako predyktora\n\n# Skalowanie cechy\nscaler = StandardScaler()\nX_single_scaled = scaler.fit_transform(X_single)\nprint(f\"X_single-scaled:\")\nprint(X_single_scaled)\n\nprint(f\"y:\")\nprint(y)\n# Podział na zbiory treningowe i testowe (80% train, 20% test)\nX_single_train, X_single_test, y_train, y_test = train_test_split(X_single_scaled, y, test_size=0.2, random_state=42)\n\n# Model regresji liniowej\nmodel_single = LinearRegression()\nmodel_single.fit(X_single_train, y_train)\n\n# Predykcja\ny_pred_single = model_single.predict(X_single_test)\n\n# Wizualizacja regresji\nplt.figure(figsize=(8,6))\nsns.scatterplot(x=X_single_test[:, 0], y=y_test, label=\"Prawdziwe wartości\", alpha=0.5)\n\n# Generowanie punktów na osi X\nx_pred = np.linspace(-3, 5, 100)\n\n# Przewidywanie wartości na osi Y\ny_pred = model_single.predict(x_pred.reshape(-1, 1))\n\n# Rysowanie regresji liniowej\nplt.plot(x_pred, y_pred, color=\"red\", label=\"Regresja liniowa\")\n\nplt.xlabel(\"L_BLOOD\")\nplt.ylabel(\"AGE\")\nplt.title(\"Regresja liniowa: L_BLOOD a AGE\")\nplt.legend()\n# Ustawienie skali wykresu\nplt.xlim(-3, 5)  # ustawienie zakresu osi X od -3 do 5\nplt.ylim(0, 100)  # ustawienie zakresu osi Y od 0 do 100\n\nplt.show() \n\n# Obliczanie wskaźników dokładności\nr2 = r2_score(y_test, y_pred_single)\nmae = mean_absolute_error(y_test, y_pred_single)\nmse = mean_squared_error(y_test, y_pred_single)\nrmse = np.sqrt(mse)\nmsd = np.mean(y_pred_single - y_test) \n\n# Mean Absolute Percentage Error (MAPE) \ndef calculate_mape(y_true, y_pred):\n    y_true, y_pred = np.array(y_true), np.array(y_pred)\n    non_zero_y_true_indices = y_true != 0 \n    y_true_non_zero = y_true[non_zero_y_true_indices]\n    y_pred_non_zero = y_pred[non_zero_y_true_indices]\n    if len(y_true_non_zero) == 0: \n        return np.nan\n    return np.mean(np.abs((y_true_non_zero - y_pred_non_zero) / y_true_non_zero)) * 100\n\nmape = calculate_mape(y_test, y_pred_single)\n\n\n# Adjusted R-squared\nn = len(y_test) # Liczba próbek testowych\np = 1 # Liczba predyktorów \nadjusted_r2 = 1 - (1 - r2) * (n - 1) / (n - p - 1)\n\nprint(\"\\n--- Wskaźniki dokładności ---\")\nprint(f\"R^2: {r2:.4f}\")\nprint(f\"Adjusted R^2: {adjusted_r2:.4f}\")\nprint(f\"Mean Absolute Error (MAE): {mae:.4f}\")\nprint(f\"Mean Squared Error (MSE): {mse:.4f}\")\nprint(f\"Root Mean Squared Error (RMSE): {rmse:.4f}\")\nprint(f\"Mean Signed Difference (MSD): {msd:.4f}\")\nprint(f\"Mean Absolute Percentage Error (MAPE): {mape:.4f}%\")",
      "metadata": {
        "trusted": true
      },
      "outputs": [
        {
          "name": "stdout",
          "output_type": "stream",
          "text": "df.info():\n<class 'pandas.core.frame.DataFrame'>\nRangeIndex: 1700 entries, 0 to 1699\nColumns: 124 entries, ID to LET_IS\ndtypes: float64(110), int64(14)\nmemory usage: 1.6 MB\nNone\ndf.head():\n   ID   AGE  SEX  INF_ANAM  STENOK_AN  FK_STENOK  IBS_POST  IBS_NASL   GB  \\\n0   1  77.0    1       2.0        1.0        1.0       2.0       NaN  3.0   \n1   2  55.0    1       1.0        0.0        0.0       0.0       0.0  0.0   \n2   3  52.0    1       0.0        0.0        0.0       2.0       NaN  2.0   \n3   4  68.0    0       0.0        0.0        0.0       2.0       NaN  2.0   \n4   5  60.0    1       0.0        0.0        0.0       2.0       NaN  3.0   \n\n   SIM_GIPERT  ...  JELUD_TAH  FIBR_JELUD  A_V_BLOK  OTEK_LANC  RAZRIV  \\\n0         0.0  ...          0           0         0          0       0   \n1         0.0  ...          0           0         0          0       0   \n2         0.0  ...          0           0         0          0       0   \n3         0.0  ...          0           0         0          0       0   \n4         0.0  ...          0           0         0          0       0   \n\n   DRESSLER  ZSN  REC_IM  P_IM_STEN  LET_IS  \n0         0    0       0          0       0  \n1         0    0       0          0       0  \n2         0    0       0          0       0  \n3         0    1       0          0       0  \n4         0    0       0          0       0  \n\n[5 rows x 124 columns]\ndf.isnull().sum()():\nID             0\nAGE            8\nSEX            0\nINF_ANAM       4\nSTENOK_AN    106\n            ... \nDRESSLER       0\nZSN            0\nREC_IM         0\nP_IM_STEN      0\nLET_IS         0\nLength: 124, dtype: int64\n"
        },
        {
          "name": "stderr",
          "output_type": "stream",
          "text": "Matplotlib is building the font cache; this may take a moment.\n"
        },
        {
          "ename": "<class 'ModuleNotFoundError'>",
          "evalue": "No module named 'seaborn'",
          "traceback": [
            "\u001b[0;31m---------------------------------------------------------------------------\u001b[0m",
            "\u001b[0;31mModuleNotFoundError\u001b[0m                       Traceback (most recent call last)",
            "Cell \u001b[0;32mIn[1], line 22\u001b[0m\n\u001b[1;32m     19\u001b[0m df\u001b[38;5;241m.\u001b[39mfillna(df\u001b[38;5;241m.\u001b[39mmean(), inplace\u001b[38;5;241m=\u001b[39m\u001b[38;5;28;01mTrue\u001b[39;00m)\n\u001b[1;32m     21\u001b[0m \u001b[38;5;28;01mimport\u001b[39;00m \u001b[38;5;21;01mmatplotlib\u001b[39;00m\u001b[38;5;21;01m.\u001b[39;00m\u001b[38;5;21;01mpyplot\u001b[39;00m \u001b[38;5;28;01mas\u001b[39;00m \u001b[38;5;21;01mplt\u001b[39;00m\n\u001b[0;32m---> 22\u001b[0m \u001b[38;5;28;01mimport\u001b[39;00m \u001b[38;5;21;01mseaborn\u001b[39;00m \u001b[38;5;28;01mas\u001b[39;00m \u001b[38;5;21;01msns\u001b[39;00m\n\u001b[1;32m     24\u001b[0m \u001b[38;5;66;03m# Histogram dla zmiennej zależnej (np. komplikacji po zawale)\u001b[39;00m\n\u001b[1;32m     25\u001b[0m sns\u001b[38;5;241m.\u001b[39mhistplot(df[\u001b[38;5;124m\"\u001b[39m\u001b[38;5;124mAGE\u001b[39m\u001b[38;5;124m\"\u001b[39m], bins\u001b[38;5;241m=\u001b[39m\u001b[38;5;241m30\u001b[39m, kde\u001b[38;5;241m=\u001b[39m\u001b[38;5;28;01mTrue\u001b[39;00m)\n",
            "\u001b[0;31mModuleNotFoundError\u001b[0m: No module named 'seaborn'"
          ],
          "output_type": "error"
        }
      ],
      "execution_count": 1
    },
    {
      "id": "018e6718-49ff-4b88-ad37-2f20cd9f17bb",
      "cell_type": "code",
      "source": "",
      "metadata": {
        "trusted": true
      },
      "outputs": [],
      "execution_count": null
    }
  ]
}